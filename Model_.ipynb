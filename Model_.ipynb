{
 "cells": [
  {
   "cell_type": "code",
   "execution_count": 11,
   "metadata": {},
   "outputs": [
    {
     "name": "stdout",
     "output_type": "stream",
     "text": [
      "The autoreload extension is already loaded. To reload it, use:\n",
      "  %reload_ext autoreload\n",
      "The line_profiler extension is already loaded. To reload it, use:\n",
      "  %reload_ext line_profiler\n"
     ]
    }
   ],
   "source": [
    "# magics: ensures that any changes to the modules loaded below will be re-loaded automatically\n",
    "%load_ext autoreload\n",
    "%autoreload 2\n",
    "%load_ext line_profiler\n",
    "\n",
    "# load general packages\n",
    "import numpy as np\n",
    "import matplotlib.pyplot as plt\n",
    "from consav.linear_interp import interp_4d\n",
    "\n",
    "# load modules related to this project\n",
    "from educationmodel import EducationModel\n",
    "import estimate as est \n",
    "\n",
    "colors = plt.rcParams['axes.prop_cycle'].by_key()['color']\n",
    "plt.rcParams.update({\"axes.grid\" : True, \"grid.color\": \"black\", \"grid.alpha\":\"0.25\", \"grid.linestyle\": \"--\"})\n",
    "plt.rcParams.update({'font.size': 14})"
   ]
  },
  {
   "cell_type": "code",
   "execution_count": 12,
   "metadata": {},
   "outputs": [],
   "source": [
    "model = EducationModel() # Define the model"
   ]
  },
  {
   "cell_type": "code",
   "execution_count": null,
   "metadata": {},
   "outputs": [],
   "source": [
    "model.solve() # Solve the model\n",
    "\n",
    "# Redefine\n",
    "sol = model.sol \n",
    "par = model.par \n"
   ]
  },
  {
   "cell_type": "markdown",
   "metadata": {},
   "source": [
    "## Simulate Model"
   ]
  },
  {
   "cell_type": "code",
   "execution_count": null,
   "metadata": {},
   "outputs": [],
   "source": [
    "# Simulate model\n",
    "model.simulate()\n",
    "sim=model.sim"
   ]
  },
  {
   "cell_type": "code",
   "execution_count": null,
   "metadata": {},
   "outputs": [],
   "source": [
    "# Determining the different types\n",
    "Type1 = np.where((sim.util_school_fix == 50) & (sim.abil_work_fix == 30),1,0) # Low utility school, low ability work\n",
    "Type2 = np.where((sim.util_school_fix == 200) & (sim.abil_work_fix == 30),1,0) # High utility school, low ability work\n",
    "Type3 = np.where((sim.util_school_fix == 50) & (sim.abil_work_fix == 120),1,0) # Low utility school, high ability work\n",
    "Type4 = np.where((sim.util_school_fix == 200) & (sim.abil_work_fix == 120),1,0) # High utility school, high ability work\n"
   ]
  },
  {
   "cell_type": "code",
   "execution_count": null,
   "metadata": {},
   "outputs": [],
   "source": [
    "mean_school_vectors =[]\n",
    "mean_interrupt_vectors =[]\n",
    "mean_school_time_vectors = []\n",
    "mean_wage_vectors = []\n",
    "mean_experience_vectors = []"
   ]
  },
  {
   "cell_type": "code",
   "execution_count": null,
   "metadata": {},
   "outputs": [],
   "source": [
    "types = [Type1,Type2,Type3,Type4]\n",
    "for s in types:\n",
    "    i = np.where(s == 1)[0]\n",
    "\n",
    "    mean_school = sim.school[i].mean(axis=0)\n",
    "    mean_interrupt = sim.interrupt[i].mean(axis=0)\n",
    "    mean_school_time = sim.school_time[i].mean(axis=0)\n",
    "    mean_wage = np.nanmean(sim.wage[i],axis=0)\n",
    "    mean_experience = np.nanmean(sim.experience[i],axis=0)\n",
    "    mean_school_vectors.append(mean_school)\n",
    "    mean_interrupt_vectors.append(mean_interrupt)\n",
    "    mean_school_time_vectors.append(mean_school_time)\n",
    "    mean_wage_vectors.append(mean_wage)\n",
    "    mean_experience_vectors.append(mean_experience)\n"
   ]
  },
  {
   "cell_type": "code",
   "execution_count": null,
   "metadata": {},
   "outputs": [],
   "source": [
    "plot_vectors = [mean_school_vectors, mean_interrupt_vectors, mean_school_time_vectors, mean_wage_vectors, mean_experience_vectors]\n",
    "vector_names = [\"Mean schooling choice\",\"Mean interruption choice\", \"Mean school time\", \"Mean wage\", \"Mean experience\"]"
   ]
  },
  {
   "cell_type": "code",
   "execution_count": null,
   "metadata": {},
   "outputs": [],
   "source": [
    "for vector, name in zip(plot_vectors, vector_names):\n",
    "    for i in range(4):\n",
    "        plt.plot(vector[i], label=f\"{name} for type {i+1}\")\n",
    "    plt.legend()\n",
    "    plt.xlabel(\"Time period\")\n",
    "    plt.ylabel(name)\n",
    "    plt.savefig(f\"{name}_for_type_{i+1}_over_time.png\") # Save the figure\n",
    "    plt.show()\n"
   ]
  },
  {
   "cell_type": "code",
   "execution_count": null,
   "metadata": {},
   "outputs": [],
   "source": []
  },
  {
   "cell_type": "markdown",
   "metadata": {},
   "source": [
    "## Estimate the parameters"
   ]
  },
  {
   "cell_type": "code",
   "execution_count": 13,
   "metadata": {},
   "outputs": [],
   "source": [
    "estimate_ = est.estimate_class() # define the estimate function\n",
    "family_data, decision_data = estimate_.read_data() # Read data"
   ]
  },
  {
   "cell_type": "code",
   "execution_count": null,
   "metadata": {},
   "outputs": [],
   "source": [
    "print(f'Max util_school: {util_school.max()}, Min util_school: {util_school.min()}')\n",
    "print(f'Max ability_wage: {ability_wage.max()}, Min ability_wage: {ability_wage.min()}')"
   ]
  },
  {
   "cell_type": "code",
   "execution_count": null,
   "metadata": {},
   "outputs": [],
   "source": [
    "delta7= np.linspace(-5,5,5)\n",
    "log_lik = np.nan + np.zeros(5)"
   ]
  },
  {
   "cell_type": "code",
   "execution_count": null,
   "metadata": {},
   "outputs": [],
   "source": [
    "for i in range(5):\n",
    "    pnames = ['delta7']\n",
    "    theta = np.array([delta7[i]])\n",
    "    log_lik[i]=estimate_.ll(theta,model, family_data, decision_data, pnames)"
   ]
  },
  {
   "cell_type": "code",
   "execution_count": null,
   "metadata": {},
   "outputs": [],
   "source": [
    "fig = plt.figure(figsize=(6,4),dpi=100)\n",
    "\n",
    "ax = fig.add_subplot(1,1,1)\n",
    "ax.set_title('Log likelihood')\n",
    "\n",
    "ax.plot(delta7,log_lik)\n",
    "\n",
    "ax.set_xlabel('delta7')\n",
    "ax.set_ylabel('log likelihood')\n",
    "\n",
    "\n",
    "fig.tight_layout()"
   ]
  },
  {
   "cell_type": "code",
   "execution_count": 14,
   "metadata": {},
   "outputs": [],
   "source": [
    "pnames = ['delta7','delta8']\n",
    "theta0 = [-1.09911098,-0.02504128]\n"
   ]
  },
  {
   "cell_type": "code",
   "execution_count": 15,
   "metadata": {},
   "outputs": [
    {
     "name": "stdout",
     "output_type": "stream",
     "text": [
      "delta7 -1.0979559481181265\n",
      "delta8 -0.0001\n",
      "delta7 -1.0979559381181265\n",
      "delta8 -0.0001\n",
      "delta7 -1.0979559481181265\n",
      "delta8 -9.999000000000001e-05\n",
      "delta7RUNNING THE L-BFGS-B CODE\n",
      " -1.1612748790954819\n",
      "delta8 -0.9980933431540938\n",
      "\n",
      "           * * *\n",
      "\n",
      "Machine precision = 2.220D-16\n",
      " N =            2     M =           10\n",
      "\n",
      "At X0         0 variables are exactly at the bounds\n",
      "\n",
      "At iterate    0    f=  1.68867D+04    |proj g|=  6.30094D+04\n"
     ]
    },
    {
     "name": "stderr",
     "output_type": "stream",
     "text": [
      " This problem is unconstrained.\n"
     ]
    },
    {
     "name": "stdout",
     "output_type": "stream",
     "text": [
      "delta7 -1.161274869095482\n",
      "delta8 -0.9980933431540938\n",
      "delta7 -1.1612748790954819\n",
      "delta8 -0.9980933331540938\n",
      "delta7 -1.1079860984078287\n",
      "delta8 -0.15818894852532903\n",
      "delta7 -1.1079860884078288\n",
      "delta8 -0.15818894852532903\n",
      "delta7 -1.1079860984078287\n",
      "delta8 -0.15818893852532903\n",
      "delta7 -1.0998750715409742\n",
      "delta8 -0.030348021738998587\n",
      "delta7 -1.0998750615409743\n",
      "delta8 -0.030348021738998587\n",
      "delta7 -1.0998750715409742\n",
      "delta8 -0.030348011738998586\n",
      "delta7\n",
      " -1.0995818440378389\n",
      "delta8 -0.027492334451587108\n",
      "At iterate    1    f=  1.61381D+04    |proj g|=  6.56996D+03\n",
      "delta7 -1.099581834037839\n",
      "delta8 -0.027492334451587108\n",
      "delta7 -1.0995818440378389\n",
      "delta8 -0.027492324451587107\n",
      "delta7\n",
      " -1.09921644169869\n",
      "delta8 -0.02489288506457923\n",
      "At iterate    2    f=  1.61254D+04    |proj g|=  3.12984D+03\n",
      "delta7 -1.09921643169869\n",
      "delta8 -0.02489288506457923\n",
      "delta7 -1.09921644169869\n",
      "delta8 -0.02489287506457923\n",
      "delta7\n",
      " -1.0991109776100523\n",
      "delta8 -0.025041280128792913\n",
      "At iterate    3    f=  1.61199D+04    |proj g|=  2.00237D+02\n",
      "delta7 -1.0991109676100523\n",
      "delta8 -0.025041280128792913\n",
      "delta7 -1.0991109776100523\n",
      "delta8 -0.02504127012879291\n",
      "\n",
      "At iterate    4    f=  1.61198D+04    |proj g|=  1.23474D+02\n",
      "\n",
      "           * * *\n",
      "\n",
      "Tit   = total number of iterations\n",
      "Tnf   = total number of function evaluations\n",
      "Tnint = total number of segments explored during Cauchy searches\n",
      "Skip  = number of BFGS updates skipped\n",
      "Nact  = number of active bounds at final generalized Cauchy point\n",
      "Projg = norm of the final projected gradient\n",
      "F     = final function value\n",
      "\n",
      "           * * *\n",
      "\n",
      "   N    Tit     Tnf  Tnint  Skip  Nact     Projg        F\n",
      "    2      4      7      1     0     0   1.235D+02   1.612D+04\n",
      "  F =   16119.838749521497     \n",
      "\n",
      "CONVERGENCE: REL_REDUCTION_OF_F_<=_FACTR*EPSMCH             \n",
      "basis [-1.09911098 -0.02504128]\n",
      "fhandle <function estimate_class.variance.<locals>.<lambda> at 0x7fae21dc0f70>\n",
      "delta7 -1.0991109776100523\n",
      "delta8 -0.025041280128792913\n",
      "delta7 -1.0991219687198284\n",
      "delta8 -0.025041280128792913\n",
      "delta7 -1.0991109776100523\n",
      "delta8 -0.0250415305415942\n",
      "delta7 -1.0991329598296045\n",
      "delta8 -0.025041280128792913\n",
      "delta7 -1.0991219687198284\n",
      "delta8 -0.0250415305415942\n",
      "delta7 -1.0991109776100523\n",
      "delta8 -0.025041780954395486\n"
     ]
    },
    {
     "name": "stderr",
     "output_type": "stream",
     "text": [
      "/Users/HP/Documents/Skole/Uni/Dynamic Programming/Term paper/Dynamic-Programming/estimate.py:189: RuntimeWarning: invalid value encountered in sqrt\n",
      "  se = np.sqrt(np.diag(cov))\n"
     ]
    }
   ],
   "source": [
    "res = estimate_.estimate(model, family_data, decision_data, pnames, theta0)"
   ]
  },
  {
   "cell_type": "code",
   "execution_count": 16,
   "metadata": {},
   "outputs": [
    {
     "data": {
      "text/plain": [
       "{'theta': array([-1.09911098, -0.02504128]),\n",
       " 'se': array([0.01071953,        nan]),\n",
       " 't': array([-102.53353081,           nan]),\n",
       " 'cov': array([[ 1.14908264e-04,  2.15191696e-07],\n",
       "        [ 2.15191696e-07, -7.82279539e-08]]),\n",
       " 'success': True,\n",
       " 'nit': 4,\n",
       " 'nfev': 21,\n",
       " 'fun': 16119.838749521497}"
      ]
     },
     "execution_count": 16,
     "metadata": {},
     "output_type": "execute_result"
    }
   ],
   "source": [
    "res"
   ]
  },
  {
   "cell_type": "code",
   "execution_count": 38,
   "metadata": {},
   "outputs": [
    {
     "name": "stdout",
     "output_type": "stream",
     "text": [
      "basis [-1.09911098 -0.02504128]\n",
      "fhandle <function estimate_class.variance.<locals>.<lambda> at 0x7fae30999af0>\n",
      "delta7 -1.09911098\n",
      "delta8 -0.02504128\n",
      "delta7 -1.0992208910980001\n",
      "delta8 -0.02504128\n",
      "delta7 -1.09911098\n",
      "delta8 -0.025043784128\n",
      "delta7 -1.0993308021960002\n",
      "delta8 -0.02504128\n",
      "delta7 -1.0992208910980001\n",
      "delta8 -0.025043784128\n",
      "delta7 -1.09911098\n",
      "delta8 -0.025046288256\n"
     ]
    }
   ],
   "source": [
    "cov, se = estimate_.variance(model,['delta7','delta8'],family_data,decision_data,np.array([-1.09911098,-0.02504128]))"
   ]
  },
  {
   "cell_type": "code",
   "execution_count": 39,
   "metadata": {},
   "outputs": [
    {
     "data": {
      "text/plain": [
       "array([0.05258693, 0.00361157])"
      ]
     },
     "execution_count": 39,
     "metadata": {},
     "output_type": "execute_result"
    }
   ],
   "source": [
    "se"
   ]
  },
  {
   "cell_type": "markdown",
   "metadata": {},
   "source": [
    "### Illustrate results"
   ]
  },
  {
   "cell_type": "code",
   "execution_count": 49,
   "metadata": {},
   "outputs": [
    {
     "name": "stdout",
     "output_type": "stream",
     "text": [
      "delta7 -1.3\n",
      "delta8 -1.3\n",
      "delta7 -1.3\n",
      "delta8 -1.0444444444444445\n",
      "delta7 -1.3\n",
      "delta8 -0.788888888888889\n",
      "delta7 -1.3\n",
      "delta8 -0.5333333333333334\n",
      "delta7 -1.3\n",
      "delta8 -0.2777777777777779\n",
      "delta7 -1.3\n",
      "delta8 -0.022222222222222365\n",
      "delta7 -1.3\n",
      "delta8 0.23333333333333317\n",
      "delta7 -1.3\n",
      "delta8 0.4888888888888887\n",
      "delta7 -1.3\n",
      "delta8 0.7444444444444442\n",
      "delta7 -1.3\n",
      "delta8 1.0\n",
      "delta7 -1.1555555555555557\n",
      "delta8 -1.3\n",
      "delta7 -1.1555555555555557\n",
      "delta8 -1.0444444444444445\n",
      "delta7 -1.1555555555555557\n",
      "delta8 -0.788888888888889\n",
      "delta7 -1.1555555555555557\n",
      "delta8 -0.5333333333333334\n",
      "delta7 -1.1555555555555557\n",
      "delta8 -0.2777777777777779\n",
      "delta7 -1.1555555555555557\n",
      "delta8 -0.022222222222222365\n",
      "delta7 -1.1555555555555557\n",
      "delta8 0.23333333333333317\n",
      "delta7 -1.1555555555555557\n",
      "delta8 0.4888888888888887\n",
      "delta7 -1.1555555555555557\n",
      "delta8 0.7444444444444442\n",
      "delta7 -1.1555555555555557\n",
      "delta8 1.0\n",
      "delta7 -1.011111111111111\n",
      "delta8 -1.3\n",
      "delta7 -1.011111111111111\n",
      "delta8 -1.0444444444444445\n",
      "delta7 -1.011111111111111\n",
      "delta8 -0.788888888888889\n",
      "delta7 -1.011111111111111\n",
      "delta8 -0.5333333333333334\n",
      "delta7 -1.011111111111111\n",
      "delta8 -0.2777777777777779\n",
      "delta7 -1.011111111111111\n",
      "delta8 -0.022222222222222365\n",
      "delta7 -1.011111111111111\n",
      "delta8 0.23333333333333317\n",
      "delta7 -1.011111111111111\n",
      "delta8 0.4888888888888887\n",
      "delta7 -1.011111111111111\n",
      "delta8 0.7444444444444442\n",
      "delta7 -1.011111111111111\n",
      "delta8 1.0\n",
      "delta7 -0.8666666666666667\n",
      "delta8 -1.3\n",
      "delta7 -0.8666666666666667\n",
      "delta8 -1.0444444444444445\n",
      "delta7 -0.8666666666666667\n",
      "delta8 -0.788888888888889\n",
      "delta7 -0.8666666666666667\n",
      "delta8 -0.5333333333333334\n",
      "delta7 -0.8666666666666667\n",
      "delta8 -0.2777777777777779\n",
      "delta7 -0.8666666666666667\n",
      "delta8 -0.022222222222222365\n",
      "delta7 -0.8666666666666667\n",
      "delta8 0.23333333333333317\n",
      "delta7 -0.8666666666666667\n",
      "delta8 0.4888888888888887\n",
      "delta7 -0.8666666666666667\n",
      "delta8 0.7444444444444442\n",
      "delta7 -0.8666666666666667\n",
      "delta8 1.0\n",
      "delta7 -0.7222222222222222\n",
      "delta8 -1.3\n",
      "delta7 -0.7222222222222222\n",
      "delta8 -1.0444444444444445\n",
      "delta7 -0.7222222222222222\n",
      "delta8 -0.788888888888889\n",
      "delta7 -0.7222222222222222\n",
      "delta8 -0.5333333333333334\n",
      "delta7 -0.7222222222222222\n",
      "delta8 -0.2777777777777779\n",
      "delta7 -0.7222222222222222\n",
      "delta8 -0.022222222222222365\n",
      "delta7 -0.7222222222222222\n",
      "delta8 0.23333333333333317\n",
      "delta7 -0.7222222222222222\n",
      "delta8 0.4888888888888887\n",
      "delta7 -0.7222222222222222\n",
      "delta8 0.7444444444444442\n",
      "delta7 -0.7222222222222222\n",
      "delta8 1.0\n",
      "delta7 -0.5777777777777777\n",
      "delta8 -1.3\n",
      "delta7 -0.5777777777777777\n",
      "delta8 -1.0444444444444445\n",
      "delta7 -0.5777777777777777\n",
      "delta8 -0.788888888888889\n",
      "delta7 -0.5777777777777777\n",
      "delta8 -0.5333333333333334\n",
      "delta7 -0.5777777777777777\n",
      "delta8 -0.2777777777777779\n",
      "delta7 -0.5777777777777777\n",
      "delta8 -0.022222222222222365\n",
      "delta7 -0.5777777777777777\n",
      "delta8 0.23333333333333317\n",
      "delta7 -0.5777777777777777\n",
      "delta8 0.4888888888888887\n",
      "delta7 -0.5777777777777777\n",
      "delta8 0.7444444444444442\n",
      "delta7 -0.5777777777777777\n",
      "delta8 1.0\n",
      "delta7 -0.43333333333333335\n",
      "delta8 -1.3\n",
      "delta7 -0.43333333333333335\n",
      "delta8 -1.0444444444444445\n",
      "delta7 -0.43333333333333335\n",
      "delta8 -0.788888888888889\n",
      "delta7 -0.43333333333333335\n",
      "delta8 -0.5333333333333334\n",
      "delta7 -0.43333333333333335\n",
      "delta8 -0.2777777777777779\n",
      "delta7 -0.43333333333333335\n",
      "delta8 -0.022222222222222365\n",
      "delta7 -0.43333333333333335\n",
      "delta8 0.23333333333333317\n",
      "delta7 -0.43333333333333335\n",
      "delta8 0.4888888888888887\n",
      "delta7 -0.43333333333333335\n",
      "delta8 0.7444444444444442\n",
      "delta7 -0.43333333333333335\n",
      "delta8 1.0\n",
      "delta7 -0.28888888888888875\n",
      "delta8 -1.3\n",
      "delta7 -0.28888888888888875\n",
      "delta8 -1.0444444444444445\n",
      "delta7 -0.28888888888888875\n",
      "delta8 -0.788888888888889\n",
      "delta7 -0.28888888888888875\n",
      "delta8 -0.5333333333333334\n",
      "delta7 -0.28888888888888875\n",
      "delta8 -0.2777777777777779\n"
     ]
    }
   ],
   "source": [
    "# Find the likelihood value for different combinations \n",
    "model_ = model.copy()\n",
    "\n",
    "# Prøver for forskellige værdier af RC og c. \n",
    "Ndelta7 = 10\n",
    "Ndelta8 = 10\n",
    "\n",
    "log_lik = np.nan + np.zeros((Ndelta7,Ndelta8))\n",
    "delta7= np.linspace(-1.3,0,Ndelta7)\n",
    "delta8 = np.linspace(-1.3,1,Ndelta8)\n",
    "\n",
    "for i in range(Ndelta7):\n",
    "    for j in range(Ndelta8):\n",
    "        pnames = ['delta7','delta8']\n",
    "        theta = np.array([delta7[i], delta8[j]])\n",
    "        log_lik[i,j]= estimate_.ll(theta, model_, family_data,decision_data,pnames)\n"
   ]
  },
  {
   "cell_type": "code",
   "execution_count": null,
   "metadata": {},
   "outputs": [],
   "source": [
    "# plot figure in three dimensions\n",
    "from mpl_toolkits.mplot3d import Axes3D\n",
    "from matplotlib import cm\n",
    "plt.style.use('seaborn-whitegrid')\n",
    "\n",
    "\n",
    "fig = plt.figure(figsize=(10,5))\n",
    "ax = fig.add_subplot(1,1,1,projection='3d', computed_zorder=False)\n",
    "\n",
    "# Make data.\n",
    "X, Y = np.meshgrid(RC, c,indexing='ij')\n",
    "x, y = np.unravel_index(np.argmax(log_lik), log_lik.shape)\n",
    "\n",
    "# Plot the surface.\n",
    "surf = ax.plot_surface(X, Y,  , cmap=cm.jet)\n",
    "\n",
    "#Plot max value\n",
    "max = ax.scatter(RC[x], c[y], log_lik[x,y], color=['black'], marker='o', s=10)\n",
    "\n",
    "# Customize the axis.\n",
    "ax.set_xlabel(f'RC')\n",
    "ax.set_ylabel(f'c')\n",
    "ax.set_title(f'Log-likelihood (RC,c)')\n",
    "ax.invert_xaxis()\n",
    "\n",
    "# Add a color bar which maps values to colors.\n",
    "fig.colorbar(surf, shrink=0.5, aspect=5)\n",
    "\n",
    "plt.show()"
   ]
  }
 ],
 "metadata": {
  "kernelspec": {
   "display_name": "base",
   "language": "python",
   "name": "python3"
  },
  "language_info": {
   "codemirror_mode": {
    "name": "ipython",
    "version": 3
   },
   "file_extension": ".py",
   "mimetype": "text/x-python",
   "name": "python",
   "nbconvert_exporter": "python",
   "pygments_lexer": "ipython3",
   "version": "3.9.13"
  }
 },
 "nbformat": 4,
 "nbformat_minor": 2
}
