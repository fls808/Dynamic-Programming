{
 "cells": [
  {
   "cell_type": "code",
   "execution_count": 48,
   "metadata": {},
   "outputs": [
    {
     "name": "stdout",
     "output_type": "stream",
     "text": [
      "The autoreload extension is already loaded. To reload it, use:\n",
      "  %reload_ext autoreload\n",
      "The line_profiler extension is already loaded. To reload it, use:\n",
      "  %reload_ext line_profiler\n"
     ]
    }
   ],
   "source": [
    "# magics: ensures that any changes to the modules loaded below will be re-loaded automatically\n",
    "%load_ext autoreload\n",
    "%autoreload 2\n",
    "%load_ext line_profiler\n",
    "\n",
    "# load general packages\n",
    "import numpy as np\n",
    "import pandas as pd \n",
    "import matplotlib.pyplot as plt\n",
    "#plt.style.use('seaborn-whitegrid')\n",
    "\n",
    "# load modules related to this exercise\n",
    "from educationmodel_3_Lise_1 import EducationModel\n",
    "import estimate_1 as est "
   ]
  },
  {
   "cell_type": "code",
   "execution_count": null,
   "metadata": {},
   "outputs": [],
   "source": [
    "colors = plt.rcParams['axes.prop_cycle'].by_key()['color']\n",
    "plt.rcParams.update({\"axes.grid\" : True, \"grid.color\": \"black\", \"grid.alpha\":\"0.25\", \"grid.linestyle\": \"--\"})\n",
    "plt.rcParams.update({'font.size': 14})"
   ]
  },
  {
   "cell_type": "code",
   "execution_count": null,
   "metadata": {},
   "outputs": [],
   "source": [
    "model = EducationModel()"
   ]
  },
  {
   "cell_type": "code",
   "execution_count": null,
   "metadata": {},
   "outputs": [],
   "source": [
    "model.solve()"
   ]
  },
  {
   "cell_type": "code",
   "execution_count": null,
   "metadata": {},
   "outputs": [],
   "source": [
    "sol = model.sol"
   ]
  },
  {
   "cell_type": "code",
   "execution_count": null,
   "metadata": {},
   "outputs": [],
   "source": [
    "sol.d.min()"
   ]
  },
  {
   "cell_type": "code",
   "execution_count": null,
   "metadata": {},
   "outputs": [],
   "source": [
    "par = model.par \n",
    "sol= model.sol"
   ]
  },
  {
   "cell_type": "code",
   "execution_count": null,
   "metadata": {},
   "outputs": [],
   "source": [
    "from consav.linear_interp import interp_4d"
   ]
  },
  {
   "cell_type": "code",
   "execution_count": null,
   "metadata": {},
   "outputs": [],
   "source": [
    "# give ability\n",
    "Dad_educ = family_data.Dad_educ\n",
    "Mom_educ = family_data.Mom_educ\n",
    "Family_income = family_data.Family_income\n",
    "Num_siblings = family_data.Num_siblings\n",
    "Nuclear = family_data.Nuclear\n",
    "Urban = family_data.Urban\n",
    "South = family_data.South\n",
    "\n",
    "\n",
    "experience = decision_data.exp \n",
    "school_time = decision_data.edu\n",
    "\n",
    "\n",
    "d = decision_data.dummy\n",
    "\n",
    "util_school  = par.delta0*Dad_educ + par.delta1*Mom_educ + par.delta2*Family_income + par.delta3*Num_siblings + par.delta4*Nuclear + par.delta5*Urban + par.delta6*South\n",
    "ability_wage = par.gamma0_w*Dad_educ + par.gamma1_w*Mom_educ + par.gamma2_w*Family_income + par.gamma3_w*Num_siblings + par.gamma4_w*Nuclear + par.gamma5_w*Urban + par.gamma6_w*South\n",
    "ability_employment = par.gamma0_e*Dad_educ + par.gamma1_e*Mom_educ + par.gamma2_e*Family_income + par.gamma3_e*Num_siblings + par.gamma4_e*Nuclear + par.gamma5_e*Urban + par.gamma6_e*South\n",
    "# ability_wage\n",
    "# ability_employment\n",
    "\n",
    "school_time_index =school_time-6\n",
    "\n",
    "# probability of staying in school given the state\n",
    "# AND THE ORTHOGONAL TYPE\n",
    "log_likelihood = 0\n",
    "\n",
    "epsilon = 1e-10\n",
    "\n",
    "probabilities = {0: par.p1, 1: par.p2, 2: par.p3, 3: par.p4, 4: par.p5, 5: par.p6}\n",
    "# Iterate over N and T\n",
    "for i in range(par.N):\n",
    "    for t in range(par.T):\n",
    "        # Iterate through all choices including 0\n",
    "        for x in range(1, 6):\n",
    "\n",
    "            experience_i = experience[i + par.N * t]\n",
    "            for i in range(t):\n",
    "                #if experience_i equal to nan \n",
    "                if np.isnan(experience_i):\n",
    "                    print('experience_i is nan')\n",
    "                    experience_i = experience[i + par.N *(t-1)]\n",
    "            \n",
    "            if np.isnan(experience_i):\n",
    "                print('experience_i is still nan')\n",
    "                experience_i = 0\n",
    "\n",
    "            sol_x = sol.d[t, x, :, :, :, school_time_index[i + par.N * t], :]\n",
    "            lik_pr_x = interp_4d(\n",
    "                par.nuw_fix_grid,\n",
    "                par.nue_fix_grid,\n",
    "                par.util_sch_fix_grid,\n",
    "                par.experience_grid,\n",
    "                sol_x,\n",
    "                ability_wage[i],\n",
    "                ability_employment[i],\n",
    "                util_school[i],\n",
    "                experience_i\n",
    "            )\n",
    "            clamped_lik_pr_x = np.clip(lik_pr_x, epsilon, 1-epsilon)\n",
    "\n",
    "            if np.isnan(clamped_lik_pr_x).any() or np.isinf(clamped_lik_pr_x).any():\n",
    "                print(f'NaN or Inf encountered at i={i}, t={t}, x={x}')\n",
    "                print(f'clamped_lik_pr_x: {clamped_lik_pr_x}')\n",
    "                print(f'choice_prob_x: {choice_prob_x}')\n",
    "                clamped_lik_pr_x = 0.1\n",
    "                continue\n",
    "\n",
    "            choice_prob_x = clamped_lik_pr_x * d[i + par.N * t] + (1 - clamped_lik_pr_x) * (1 - d[i + par.N * t])\n",
    "            #if choice_prob_x < 0:\n",
    "            #    print('choice_prob_x <= 0, i, t:', i, t)\n",
    "            #    print('choice_prob_x:', choice_prob_x)\n",
    "            #    log_likelihood += -np.inf\n",
    "            #else:\n",
    "\n",
    "            if np.isnan(choice_prob_x).any() or np.isinf(choice_prob_x).any():\n",
    "                print(f'NaN or Inf encountered at i={i}, t={t}, x={x}')\n",
    "                print(f'clamped_lik_pr_x: {clamped_lik_pr_x}')\n",
    "                print(f'choice_prob_x: {choice_prob_x}')\n",
    "                continue\n",
    "\n",
    "            if x in probabilities:\n",
    "                log_likelihood += probabilities[x] * np.log(choice_prob_x)\n",
    "            #print('log_likelihood =', log_likelihood)\n",
    "\n",
    "print('log_likelihood =', log_likelihood)\n"
   ]
  },
  {
   "cell_type": "code",
   "execution_count": null,
   "metadata": {},
   "outputs": [],
   "source": [
    "sol.d.mean()"
   ]
  },
  {
   "cell_type": "code",
   "execution_count": null,
   "metadata": {},
   "outputs": [],
   "source": [
    "sol.d[0,5,14,:]"
   ]
  },
  {
   "cell_type": "code",
   "execution_count": null,
   "metadata": {},
   "outputs": [],
   "source": [
    "sol.d"
   ]
  },
  {
   "cell_type": "markdown",
   "metadata": {},
   "source": [
    "## Estimate"
   ]
  },
  {
   "cell_type": "code",
   "execution_count": null,
   "metadata": {},
   "outputs": [],
   "source": [
    "par = model.par"
   ]
  },
  {
   "cell_type": "code",
   "execution_count": null,
   "metadata": {},
   "outputs": [],
   "source": [
    "print(f'Max util_school: {util_school.max()}, Min util_school: {util_school.min()}')\n",
    "print(f'Max ability_wage: {ability_wage.max()}, Min ability_wage: {ability_wage.min()}')\n",
    "#print(f'Max ability_employment: {ability_employment.max()}, Min ability_employment: {ability_employment.min()}')\n"
   ]
  },
  {
   "cell_type": "code",
   "execution_count": 49,
   "metadata": {},
   "outputs": [],
   "source": [
    "estimate_ = est.estimate_class()\n",
    "family_data, decision_data = estimate_.read_data()"
   ]
  },
  {
   "cell_type": "code",
   "execution_count": null,
   "metadata": {},
   "outputs": [],
   "source": [
    "decision_data"
   ]
  },
  {
   "cell_type": "code",
   "execution_count": null,
   "metadata": {},
   "outputs": [],
   "source": [
    "delta7= np.linspace(-5,5,5)\n",
    "log_lik = np.nan + np.zeros(5)"
   ]
  },
  {
   "cell_type": "code",
   "execution_count": null,
   "metadata": {},
   "outputs": [],
   "source": [
    "# Problemet er her, at vi rammer noget negativt. \n",
    "for i in range(5):\n",
    "    pnames = ['delta7']\n",
    "    theta = np.array([delta7[i]])\n",
    "    log_lik[i]=estimate_.ll(theta,model, family_data, decision_data, pnames)"
   ]
  },
  {
   "cell_type": "code",
   "execution_count": null,
   "metadata": {},
   "outputs": [],
   "source": [
    "decision_data[(decision_data['id'] == 8)]"
   ]
  },
  {
   "cell_type": "code",
   "execution_count": null,
   "metadata": {},
   "outputs": [],
   "source": [
    "decision_data_interrupt = decision_data[decision_data['dummy_interrup'] == 1]\n",
    "decision_data_interrupt"
   ]
  },
  {
   "cell_type": "code",
   "execution_count": 50,
   "metadata": {},
   "outputs": [],
   "source": [
    "filtered_decision_data = decision_data[(decision_data['dummy_school'] == 1)\n",
    "                                        & (decision_data['dummy_work'] == 1)]"
   ]
  },
  {
   "cell_type": "code",
   "execution_count": 51,
   "metadata": {},
   "outputs": [
    {
     "data": {
      "text/html": [
       "<div>\n",
       "<style scoped>\n",
       "    .dataframe tbody tr th:only-of-type {\n",
       "        vertical-align: middle;\n",
       "    }\n",
       "\n",
       "    .dataframe tbody tr th {\n",
       "        vertical-align: top;\n",
       "    }\n",
       "\n",
       "    .dataframe thead th {\n",
       "        text-align: right;\n",
       "    }\n",
       "</style>\n",
       "<table border=\"1\" class=\"dataframe\">\n",
       "  <thead>\n",
       "    <tr style=\"text-align: right;\">\n",
       "      <th></th>\n",
       "      <th>id</th>\n",
       "      <th>year</th>\n",
       "      <th>dummy_school</th>\n",
       "      <th>edu_going_in</th>\n",
       "      <th>dummy_interrup</th>\n",
       "      <th>dummy_work</th>\n",
       "      <th>exp_going_in</th>\n",
       "      <th>wage</th>\n",
       "    </tr>\n",
       "  </thead>\n",
       "  <tbody>\n",
       "    <tr>\n",
       "      <th>5</th>\n",
       "      <td>6</td>\n",
       "      <td>1980</td>\n",
       "      <td>1</td>\n",
       "      <td>11</td>\n",
       "      <td>0</td>\n",
       "      <td>1</td>\n",
       "      <td>0.00</td>\n",
       "      <td>6.74</td>\n",
       "    </tr>\n",
       "    <tr>\n",
       "      <th>1273</th>\n",
       "      <td>1274</td>\n",
       "      <td>1980</td>\n",
       "      <td>1</td>\n",
       "      <td>10</td>\n",
       "      <td>0</td>\n",
       "      <td>1</td>\n",
       "      <td>0.00</td>\n",
       "      <td>9.68</td>\n",
       "    </tr>\n",
       "    <tr>\n",
       "      <th>1327</th>\n",
       "      <td>1328</td>\n",
       "      <td>1980</td>\n",
       "      <td>1</td>\n",
       "      <td>10</td>\n",
       "      <td>0</td>\n",
       "      <td>1</td>\n",
       "      <td>0.00</td>\n",
       "      <td>NaN</td>\n",
       "    </tr>\n",
       "    <tr>\n",
       "      <th>1583</th>\n",
       "      <td>1584</td>\n",
       "      <td>1980</td>\n",
       "      <td>1</td>\n",
       "      <td>12</td>\n",
       "      <td>0</td>\n",
       "      <td>1</td>\n",
       "      <td>0.00</td>\n",
       "      <td>5.55</td>\n",
       "    </tr>\n",
       "    <tr>\n",
       "      <th>1675</th>\n",
       "      <td>1676</td>\n",
       "      <td>1980</td>\n",
       "      <td>1</td>\n",
       "      <td>15</td>\n",
       "      <td>0</td>\n",
       "      <td>1</td>\n",
       "      <td>0.00</td>\n",
       "      <td>5.87</td>\n",
       "    </tr>\n",
       "    <tr>\n",
       "      <th>...</th>\n",
       "      <td>...</td>\n",
       "      <td>...</td>\n",
       "      <td>...</td>\n",
       "      <td>...</td>\n",
       "      <td>...</td>\n",
       "      <td>...</td>\n",
       "      <td>...</td>\n",
       "      <td>...</td>\n",
       "    </tr>\n",
       "    <tr>\n",
       "      <th>16366</th>\n",
       "      <td>977</td>\n",
       "      <td>1989</td>\n",
       "      <td>1</td>\n",
       "      <td>12</td>\n",
       "      <td>0</td>\n",
       "      <td>1</td>\n",
       "      <td>4.60</td>\n",
       "      <td>7.96</td>\n",
       "    </tr>\n",
       "    <tr>\n",
       "      <th>16471</th>\n",
       "      <td>1082</td>\n",
       "      <td>1989</td>\n",
       "      <td>1</td>\n",
       "      <td>12</td>\n",
       "      <td>0</td>\n",
       "      <td>1</td>\n",
       "      <td>7.81</td>\n",
       "      <td>10.75</td>\n",
       "    </tr>\n",
       "    <tr>\n",
       "      <th>16526</th>\n",
       "      <td>1137</td>\n",
       "      <td>1989</td>\n",
       "      <td>1</td>\n",
       "      <td>12</td>\n",
       "      <td>0</td>\n",
       "      <td>1</td>\n",
       "      <td>7.00</td>\n",
       "      <td>8.70</td>\n",
       "    </tr>\n",
       "    <tr>\n",
       "      <th>16541</th>\n",
       "      <td>1152</td>\n",
       "      <td>1989</td>\n",
       "      <td>1</td>\n",
       "      <td>16</td>\n",
       "      <td>0</td>\n",
       "      <td>1</td>\n",
       "      <td>0.00</td>\n",
       "      <td>7.17</td>\n",
       "    </tr>\n",
       "    <tr>\n",
       "      <th>16696</th>\n",
       "      <td>1307</td>\n",
       "      <td>1989</td>\n",
       "      <td>1</td>\n",
       "      <td>8</td>\n",
       "      <td>0</td>\n",
       "      <td>1</td>\n",
       "      <td>5.73</td>\n",
       "      <td>4.06</td>\n",
       "    </tr>\n",
       "  </tbody>\n",
       "</table>\n",
       "<p>103 rows × 8 columns</p>\n",
       "</div>"
      ],
      "text/plain": [
       "         id  year  dummy_school  edu_going_in  dummy_interrup  dummy_work  \\\n",
       "5         6  1980             1            11               0           1   \n",
       "1273   1274  1980             1            10               0           1   \n",
       "1327   1328  1980             1            10               0           1   \n",
       "1583   1584  1980             1            12               0           1   \n",
       "1675   1676  1980             1            15               0           1   \n",
       "...     ...   ...           ...           ...             ...         ...   \n",
       "16366   977  1989             1            12               0           1   \n",
       "16471  1082  1989             1            12               0           1   \n",
       "16526  1137  1989             1            12               0           1   \n",
       "16541  1152  1989             1            16               0           1   \n",
       "16696  1307  1989             1             8               0           1   \n",
       "\n",
       "       exp_going_in   wage  \n",
       "5              0.00   6.74  \n",
       "1273           0.00   9.68  \n",
       "1327           0.00    NaN  \n",
       "1583           0.00   5.55  \n",
       "1675           0.00   5.87  \n",
       "...             ...    ...  \n",
       "16366          4.60   7.96  \n",
       "16471          7.81  10.75  \n",
       "16526          7.00   8.70  \n",
       "16541          0.00   7.17  \n",
       "16696          5.73   4.06  \n",
       "\n",
       "[103 rows x 8 columns]"
      ]
     },
     "execution_count": 51,
     "metadata": {},
     "output_type": "execute_result"
    }
   ],
   "source": [
    "filtered_decision_data"
   ]
  },
  {
   "cell_type": "code",
   "execution_count": null,
   "metadata": {},
   "outputs": [],
   "source": [
    "decision_data_8 = decision_data[decision_data['id'] == 8]"
   ]
  },
  {
   "cell_type": "code",
   "execution_count": null,
   "metadata": {},
   "outputs": [],
   "source": [
    "decision_data_8"
   ]
  },
  {
   "cell_type": "code",
   "execution_count": null,
   "metadata": {},
   "outputs": [],
   "source": [
    "decision_data_1274 = decision_data[decision_data['id'] == 1274]\n",
    "decision_data_1274"
   ]
  },
  {
   "cell_type": "code",
   "execution_count": null,
   "metadata": {},
   "outputs": [],
   "source": [
    "decision_data_1028 = decision_data[decision_data['id'] == 1028]\n",
    "decision_data_1028"
   ]
  },
  {
   "cell_type": "code",
   "execution_count": null,
   "metadata": {},
   "outputs": [],
   "source": [
    "filtered_decision_data = decision_data[(decision_data['dummy_work'] == 1)\n",
    "                                        & (decision_data['dummy_school'] == 1)]"
   ]
  },
  {
   "cell_type": "code",
   "execution_count": null,
   "metadata": {},
   "outputs": [],
   "source": [
    "filtered_decision_data"
   ]
  },
  {
   "cell_type": "code",
   "execution_count": null,
   "metadata": {},
   "outputs": [],
   "source": [
    "dummy_wo"
   ]
  },
  {
   "cell_type": "code",
   "execution_count": null,
   "metadata": {},
   "outputs": [],
   "source": [
    "delta7"
   ]
  },
  {
   "cell_type": "code",
   "execution_count": null,
   "metadata": {},
   "outputs": [],
   "source": [
    "log_lik"
   ]
  },
  {
   "cell_type": "code",
   "execution_count": null,
   "metadata": {},
   "outputs": [],
   "source": [
    "log_lik"
   ]
  },
  {
   "cell_type": "code",
   "execution_count": null,
   "metadata": {},
   "outputs": [],
   "source": [
    "pnames = ['delta7']"
   ]
  },
  {
   "cell_type": "code",
   "execution_count": null,
   "metadata": {},
   "outputs": [],
   "source": [
    "model = est.updatepar(model,pnames,theta)"
   ]
  },
  {
   "cell_type": "code",
   "execution_count": null,
   "metadata": {},
   "outputs": [],
   "source": [
    "def updatepar(par,parnames, parvals):\n",
    "    \"\"\" Update parameters \"\"\"\n",
    "    for i,parname in enumerate(parnames):\n",
    "        parval = parvals[i]\n",
    "        setattr(par,parname,parval)\n",
    "    return par"
   ]
  },
  {
   "cell_type": "code",
   "execution_count": null,
   "metadata": {},
   "outputs": [],
   "source": [
    "par = model.par"
   ]
  },
  {
   "cell_type": "code",
   "execution_count": null,
   "metadata": {},
   "outputs": [],
   "source": [
    "updatepar(model.par, pnames, [7])"
   ]
  },
  {
   "cell_type": "code",
   "execution_count": null,
   "metadata": {},
   "outputs": [],
   "source": [
    "par.delta7"
   ]
  },
  {
   "cell_type": "code",
   "execution_count": null,
   "metadata": {},
   "outputs": [],
   "source": [
    "model.par.delta7"
   ]
  },
  {
   "cell_type": "code",
   "execution_count": null,
   "metadata": {},
   "outputs": [],
   "source": [
    "fig = plt.figure(figsize=(6,4),dpi=100)\n",
    "\n",
    "ax = fig.add_subplot(1,1,1)\n",
    "ax.set_title('Log likelihood')\n",
    "\n",
    "ax.plot(delta7,log_lik)\n",
    "\n",
    "ax.set_xlabel('delta7')\n",
    "ax.set_ylabel('log likelihood')\n",
    "\n",
    "\n",
    "fig.tight_layout()"
   ]
  },
  {
   "cell_type": "code",
   "execution_count": null,
   "metadata": {},
   "outputs": [],
   "source": [
    "pnames = ['delta7']\n",
    "bounds = [(None,None)]\n",
    "theta0 = [0]"
   ]
  },
  {
   "cell_type": "code",
   "execution_count": null,
   "metadata": {},
   "outputs": [],
   "source": [
    "estimate_.estimate(model, family_data, decision_data, pnames, theta0, bounds)"
   ]
  },
  {
   "cell_type": "markdown",
   "metadata": {},
   "source": [
    "## Simulate"
   ]
  },
  {
   "cell_type": "code",
   "execution_count": null,
   "metadata": {},
   "outputs": [],
   "source": [
    "model.simulate()"
   ]
  },
  {
   "cell_type": "code",
   "execution_count": null,
   "metadata": {},
   "outputs": [],
   "source": [
    "sim=model.sim"
   ]
  },
  {
   "cell_type": "code",
   "execution_count": null,
   "metadata": {},
   "outputs": [],
   "source": [
    "# Step 1: Check Inputs\n",
    "print(\"school_time:\", school_time)\n",
    "print(\"experience:\", experience)\n",
    "assert not np.isnan(school_time).any(), \"school_time contains NaN values\"\n",
    "assert not np.isnan(experience).any(), \"experience contains NaN values\"\n",
    "\n",
    "# Step 2: Inspect Initialization and Updates\n",
    "print(\"Initialization:\")\n",
    "print(\"Initial school_time:\", sim.school_time_init[i])\n",
    "print(\"Initial experience:\", sim.experience_init[i])\n",
    "\n",
    "# Inside the simulation loop\n",
    "print(\"Updating school_time and experience:\")\n",
    "print(\"Updated school_time:\", sim.school_time[i, t])\n",
    "print(\"Updated experience:\", sim.experience[i, t])\n",
    "\n",
    "# Step 3: Debug wage Calculation\n",
    "wage_value = self.wage(school_time_index, int(sim.experience[i, t]))\n",
    "print(\"Wage value:\", wage_value)\n",
    "\n",
    "# Step 4: Review logwage and logestar Functions\n",
    "# Check for NaN values in logwage and logestar calculations\n",
    "logwage_value = self.logwage(school_time_index, int(sim.experience[i, t]))\n",
    "logestar_value = self.logestar(school_time_index, int(sim.experience[i, t]))\n",
    "print(\"logwage:\", logwage_value)\n",
    "print(\"logestar:\", logestar_value)\n"
   ]
  },
  {
   "cell_type": "code",
   "execution_count": null,
   "metadata": {},
   "outputs": [],
   "source": [
    "mean_d_vectors =[]\n",
    "mean_school_time_vectors = []\n",
    "mean_wage_vectors = []\n",
    "mean_experience_vectors = []"
   ]
  },
  {
   "cell_type": "code",
   "execution_count": null,
   "metadata": {},
   "outputs": [],
   "source": [
    "start = 0 \n",
    "for i in range(model.par.Nfix):\n",
    "    end = start + model.par.block_length\n",
    "    \n",
    "    # Extract slices\n",
    "    d_slice = sim.d[start:end]\n",
    "    school_time_slice = sim.school_time[start:end]\n",
    "    wage_slice = sim.wage[start:end]\n",
    "    experience_slice = sim.experience[start:end]\n",
    "\n",
    "    # Check if slices are empty or contain only NaNs\n",
    "    if np.isnan(d_slice).all():\n",
    "        mean_d = np.nan  # or another default value\n",
    "    else:\n",
    "        mean_d = np.nanmean(d_slice, axis=0)\n",
    "\n",
    "    if np.isnan(school_time_slice).all():\n",
    "        mean_school_time = np.nan  # or another default value\n",
    "    else:\n",
    "        mean_school_time = np.nanmean(school_time_slice, axis=0)\n",
    "\n",
    "    if np.isnan(wage_slice).all():\n",
    "        mean_wage = np.nan  # or another default value\n",
    "    else:\n",
    "        mean_wage = np.nanmean(wage_slice, axis=0)\n",
    "\n",
    "    if np.isnan(experience_slice).all():\n",
    "        mean_experience = np.nan  # or another default value\n",
    "    else:\n",
    "        mean_experience = np.nanmean(experience_slice, axis=0)\n",
    "\n",
    "    # Append the computed means to the lists\n",
    "    mean_d_vectors.append(mean_d)\n",
    "    mean_school_time_vectors.append(mean_school_time)\n",
    "    mean_wage_vectors.append(mean_wage)\n",
    "    mean_experience_vectors.append(mean_experience)\n",
    "\n",
    "    # Update the start index for the next block\n",
    "    start = end\n"
   ]
  },
  {
   "cell_type": "code",
   "execution_count": null,
   "metadata": {},
   "outputs": [],
   "source": [
    "start = 0 \n",
    "for i in range(model.par.Nfix):\n",
    "    end = start + model.par.block_length\n",
    "    mean_d = sim.d[start:end].mean(axis=0)\n",
    "    mean_school_time = sim.school_time[start:end].mean(axis=0)\n",
    "    mean_wage = sim.wage[start:end].mean(axis=0, skipna = True)\n",
    "    mean_d_vectors.append(mean_d)\n",
    "    mean_school_time_vectors.append(mean_school_time)\n",
    "    mean_wage_vectors.append(mean_wage)\n",
    "    mean_experience = sim.experience[start:end].mean(axis=0)\n",
    "    mean_experience_vectors.append(mean_experience)\n",
    "    start = end \n"
   ]
  },
  {
   "cell_type": "code",
   "execution_count": null,
   "metadata": {},
   "outputs": [],
   "source": [
    "plot_vectors = [mean_d_vectors, mean_school_time_vectors, mean_wage_vectors, mean_experience_vectors]\n",
    "vector_names = [\"Mean schooling choice\", \"Mean school time\", \"Mean wage\", \"Mean experience\"]"
   ]
  },
  {
   "cell_type": "code",
   "execution_count": null,
   "metadata": {},
   "outputs": [],
   "source": [
    "for vector, name in zip(plot_vectors, vector_names):\n",
    "    for i in range(model.par.Nfix):\n",
    "        plt.plot(vector[i], label=f\"{name} for type {i}\")\n",
    "    plt.legend()\n",
    "    plt.xlabel(\"Time period\")\n",
    "    plt.ylabel(name)\n",
    "    plt.title(f\"{name} for different types over time\")\n",
    "    plt.show()"
   ]
  },
  {
   "cell_type": "markdown",
   "metadata": {},
   "source": [
    "## Andet"
   ]
  }
 ],
 "metadata": {
  "kernelspec": {
   "display_name": "base",
   "language": "python",
   "name": "python3"
  },
  "language_info": {
   "codemirror_mode": {
    "name": "ipython",
    "version": 3
   },
   "file_extension": ".py",
   "mimetype": "text/x-python",
   "name": "python",
   "nbconvert_exporter": "python",
   "pygments_lexer": "ipython3",
   "version": "3.9.13"
  }
 },
 "nbformat": 4,
 "nbformat_minor": 2
}
